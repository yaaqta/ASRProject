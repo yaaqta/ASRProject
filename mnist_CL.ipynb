{
  "cells": [
    {
      "cell_type": "code",
      "execution_count": null,
      "metadata": {
        "id": "VxHIWwAELQFw"
      },
      "outputs": [],
      "source": [
        "from keras.datasets import mnist\n",
        "from keras.models import Sequential\n",
        "from keras.layers import Dense, Dropout, Activation, Flatten\n",
        "from keras.layers import Conv2D, MaxPooling2D\n",
        "\n",
        "import numpy as np"
      ]
    },
    {
      "cell_type": "code",
      "execution_count": null,
      "metadata": {
        "colab": {
          "base_uri": "https://localhost:8080/"
        },
        "id": "1gt5u7fWMo7-",
        "outputId": "b95bdeee-d305-4b5d-9c71-c27ac8d991b5"
      },
      "outputs": [
        {
          "output_type": "stream",
          "name": "stdout",
          "text": [
            "Collecting np_utils\n",
            "  Downloading np_utils-0.6.0.tar.gz (61 kB)\n",
            "\u001b[2K     \u001b[90m━━━━━━━━━━━━━━━━━━━━━━━━━━━━━━━━━━━━━━━━\u001b[0m \u001b[32m62.0/62.0 kB\u001b[0m \u001b[31m1.8 MB/s\u001b[0m eta \u001b[36m0:00:00\u001b[0m\n",
            "\u001b[?25h  Preparing metadata (setup.py) ... \u001b[?25l\u001b[?25hdone\n",
            "Requirement already satisfied: numpy>=1.0 in /usr/local/lib/python3.10/dist-packages (from np_utils) (1.25.2)\n",
            "Building wheels for collected packages: np_utils\n",
            "  Building wheel for np_utils (setup.py) ... \u001b[?25l\u001b[?25hdone\n",
            "  Created wheel for np_utils: filename=np_utils-0.6.0-py3-none-any.whl size=56441 sha256=3feac89ffbb18cb3421193c64aa4f74fd5da16b36581a9659ab20e0dc8ee5d44\n",
            "  Stored in directory: /root/.cache/pip/wheels/b6/c7/50/2307607f44366dd021209f660045f8d51cb976514d30be7cc7\n",
            "Successfully built np_utils\n",
            "Installing collected packages: np_utils\n",
            "Successfully installed np_utils-0.6.0\n"
          ]
        }
      ],
      "source": [
        "!pip install np_utils"
      ]
    },
    {
      "cell_type": "code",
      "execution_count": null,
      "metadata": {
        "id": "cKe1Hp6DAZq4"
      },
      "outputs": [],
      "source": [
        "import np_utils"
      ]
    },
    {
      "cell_type": "code",
      "execution_count": null,
      "metadata": {
        "id": "AOICX44jA8tc"
      },
      "outputs": [],
      "source": [
        "import keras.utils"
      ]
    },
    {
      "cell_type": "code",
      "execution_count": null,
      "metadata": {
        "colab": {
          "base_uri": "https://localhost:8080/"
        },
        "id": "nPyQUwGIQ2Q6",
        "outputId": "af487243-e4ce-417f-d850-7855c000308e"
      },
      "outputs": [
        {
          "output_type": "stream",
          "name": "stdout",
          "text": [
            "Downloading data from https://storage.googleapis.com/tensorflow/tf-keras-datasets/mnist.npz\n",
            "11490434/11490434 [==============================] - 0s 0us/step\n"
          ]
        }
      ],
      "source": [
        "(X_train, y_train), (X_test, y_test) = mnist.load_data()"
      ]
    },
    {
      "cell_type": "code",
      "execution_count": null,
      "metadata": {
        "colab": {
          "base_uri": "https://localhost:8080/"
        },
        "id": "2reGfCHwRL32",
        "outputId": "a16d9bd8-1ef1-4bb4-8a90-4da982d38b25"
      },
      "outputs": [
        {
          "output_type": "stream",
          "name": "stdout",
          "text": [
            "X-train shape:  (60000, 28, 28)\n",
            "X-test shape:  (10000, 28, 28)\n",
            "y-train shape:  (60000,)\n",
            "y-test shape:  (10000,)\n"
          ]
        }
      ],
      "source": [
        "print(\"X-train shape: \", X_train.shape)\n",
        "print(\"X-test shape: \", X_test.shape)\n",
        "print(\"y-train shape: \", y_train.shape)\n",
        "print(\"y-test shape: \", y_test.shape)"
      ]
    },
    {
      "cell_type": "code",
      "execution_count": null,
      "metadata": {
        "id": "x7TBp5jOReiC"
      },
      "outputs": [],
      "source": [
        "def build_data(classes, total_classes, X_train_all, y_train_all, X_test_all, y_test_all):\n",
        "  train_ind = []\n",
        "  test_ind = []\n",
        "\n",
        "  for c in classes:\n",
        "    train_ind.extend(list(np.where(y_train_all == c)[0]))\n",
        "    test_ind.extend(list(np.where(y_test_all == c)[0]))\n",
        "\n",
        "  X_train = X_train_all[train_ind, :, :]\n",
        "  X_test = X_test_all[test_ind, :, :]\n",
        "\n",
        "  y_train_true = y_train_all[train_ind]\n",
        "  y_train = np.zeros(y_train_true.shape)\n",
        "\n",
        "  y_test_true = y_test_all[test_ind]\n",
        "  y_test = np.zeros(y_test_true.shape)\n",
        "\n",
        "  for i, c in enumerate(classes):\n",
        "    train_ind = list(np.where(y_train_true == c)[0])\n",
        "    test_ind = list(np.where(y_test_true == c)[0])\n",
        "    y_train[train_ind] = i;\n",
        "    y_test[test_ind] = i;\n",
        "\n",
        "  X_train = X_train.reshape(X_train.shape[0], 1, img_rows, img_cols)\n",
        "  X_train = X_train.astype('float32')/255.\n",
        "  X_test = X_test.reshape(X_test.shape[0], 1, img_rows, img_cols)\n",
        "  X_test = X_test.astype('float32')/255.\n",
        "\n",
        "  # Convert class vectors to binary class matrices\n",
        "  Y_train = keras.utils.to_categorical(y_train, total_classes)\n",
        "  Y_test = keras.utils.to_categorical(y_test, total_classes)\n",
        "\n",
        "  return X_train, Y_train, X_test, Y_test"
      ]
    },
    {
      "cell_type": "code",
      "execution_count": null,
      "metadata": {
        "id": "IUtXDiBkZh0R"
      },
      "outputs": [],
      "source": [
        "def build_model(old_model = None):\n",
        "  model = Sequential()\n",
        "\n",
        "  if old_model is None:\n",
        "    # Add padding='same' to keep the output size the same as the input size after convolution\n",
        "    model.add(Conv2D(nb_filters,\n",
        "                     nb_conv,\n",
        "                     padding = 'same',  # Change padding to 'same'\n",
        "                     input_shape = (1, img_rows, img_cols)))\n",
        "  else:\n",
        "    weights = old_model.layers[0].get_weights()\n",
        "    print(\"1.weights:{}\".format(weights))\n",
        "\n",
        "    model.add(Conv2D(nb_filters, nb_conv, nb_conv,\n",
        "                     padding = 'same',\n",
        "                     weights = weights, input_shape = (1, img_rows, img_cols)))\n",
        "    model.add(Activation('relu'))\n",
        "\n",
        "  if old_model is None:\n",
        "    # Add padding='same' to keep the output size the same as the input size after convolution\n",
        "    model.add(Conv2D(nb_filters, nb_conv, nb_conv, padding = 'same'))  # Change padding to 'same'\n",
        "  else:\n",
        "    # Access the correct Conv2D layer from the old model (index 1 instead of 2)\n",
        "    weights = old_model.layers[2].get_weights()\n",
        "    model.add(Conv2D(nb_filters, nb_conv, nb_conv, padding = 'same', weights = weights))\n",
        "  # print(\"2.weights:{}\".format(weights))\n",
        "  model.add(Activation('relu'))\n",
        "  # Set padding to 'same' for MaxPooling2D to avoid reducing spatial dimensions below 1.\n",
        "  model.add(MaxPooling2D(pool_size = (nb_pool, nb_pool), padding='same')) # Add padding='same' here\n",
        "  model.add(Dropout(0.25))\n",
        "\n",
        "  model.add(Flatten())\n",
        "\n",
        "  if old_model is None:\n",
        "    model.add(Dense(128))\n",
        "  else:\n",
        "    weights = old_model.layers[7].get_weights()\n",
        "\n",
        "    print(\"3.weights:{}\".format(weights))\n",
        "    model.add(Dense(128, weights = weights))\n",
        "  #print(\"4.weights:{}\".format(weights))\n",
        "  model.add(Activation('relu'))\n",
        "  model.add(Dropout(0.5))\n",
        "\n",
        "  return model"
      ]
    },
    {
      "cell_type": "code",
      "execution_count": null,
      "metadata": {
        "colab": {
          "base_uri": "https://localhost:8080/"
        },
        "id": "22ErnMnhKZbN",
        "outputId": "54fbc884-f713-4bac-e1fc-45dfbf48508b"
      },
      "outputs": [
        {
          "output_type": "stream",
          "name": "stdout",
          "text": [
            "Epoch 1/5\n",
            "50/50 [==============================] - 2s 22ms/step - loss: 0.6868 - accuracy: 0.5531 - val_loss: 0.6811 - val_accuracy: 0.7002\n",
            "Epoch 2/5\n",
            "50/50 [==============================] - 1s 18ms/step - loss: 0.6859 - accuracy: 0.5632 - val_loss: 0.6786 - val_accuracy: 0.7314\n",
            "Epoch 3/5\n",
            "50/50 [==============================] - 1s 19ms/step - loss: 0.6831 - accuracy: 0.5677 - val_loss: 0.6760 - val_accuracy: 0.7650\n",
            "Epoch 4/5\n",
            "50/50 [==============================] - 1s 18ms/step - loss: 0.6791 - accuracy: 0.5797 - val_loss: 0.6733 - val_accuracy: 0.7943\n",
            "Epoch 5/5\n",
            "50/50 [==============================] - 1s 19ms/step - loss: 0.6781 - accuracy: 0.5868 - val_loss: 0.6705 - val_accuracy: 0.8265\n",
            "Loss score:  0.6705046892166138\n",
            "Test accuracy:  0.8264775276184082\n"
          ]
        }
      ],
      "source": [
        "img_rows, img_cols = 28, 28\n",
        "(X_train_all, y_train_all), (X_test_all, y_test_all) = mnist.load_data()\n",
        "\n",
        "classes = [0, 1]\n",
        "nb_filters = 32\n",
        "nb_pool = 2\n",
        "nb_conv = 3\n",
        "\n",
        "# Build data for the selected classes\n",
        "X_train, Y_train, X_test, Y_test = build_data(classes, 2, X_train_all, y_train_all, X_test_all, y_test_all)\n",
        "\n",
        "model1 = build_model()\n",
        "model1.add(Dense(len(classes)))\n",
        "model1.add(Activation('softmax'))\n",
        "\n",
        "# Correct the loss function name\n",
        "model1.compile(loss='categorical_crossentropy', optimizer='adadelta', metrics=['accuracy'])\n",
        "\n",
        "# Fit the model using the processed Y_train (one-hot encoded labels)\n",
        "model1.fit(X_train, Y_train, batch_size=256, epochs=5, verbose=1, validation_data=(X_test, Y_test))\n",
        "\n",
        "score1 = model1.evaluate(X_test, Y_test, verbose = 0)\n",
        "print('Loss score: ', score1[0])\n",
        "print('Test accuracy: ', score1[1])"
      ]
    },
    {
      "cell_type": "code",
      "source": [
        "model1.summary()"
      ],
      "metadata": {
        "colab": {
          "base_uri": "https://localhost:8080/"
        },
        "id": "Ucgx6S4INuhN",
        "outputId": "a5a986de-601e-4ae5-e33a-492797b3f9a1"
      },
      "execution_count": null,
      "outputs": [
        {
          "output_type": "stream",
          "name": "stdout",
          "text": [
            "Model: \"sequential_7\"\n",
            "_________________________________________________________________\n",
            " Layer (type)                Output Shape              Param #   \n",
            "=================================================================\n",
            " conv2d_14 (Conv2D)          (None, 1, 28, 32)         8096      \n",
            "                                                                 \n",
            " conv2d_15 (Conv2D)          (None, 1, 10, 32)         9248      \n",
            "                                                                 \n",
            " activation_15 (Activation)  (None, 1, 10, 32)         0         \n",
            "                                                                 \n",
            " max_pooling2d_4 (MaxPoolin  (None, 1, 5, 32)          0         \n",
            " g2D)                                                            \n",
            "                                                                 \n",
            " dropout_8 (Dropout)         (None, 1, 5, 32)          0         \n",
            "                                                                 \n",
            " flatten_4 (Flatten)         (None, 160)               0         \n",
            "                                                                 \n",
            " dense_8 (Dense)             (None, 128)               20608     \n",
            "                                                                 \n",
            " activation_16 (Activation)  (None, 128)               0         \n",
            "                                                                 \n",
            " dropout_9 (Dropout)         (None, 128)               0         \n",
            "                                                                 \n",
            " dense_9 (Dense)             (None, 2)                 258       \n",
            "                                                                 \n",
            " activation_17 (Activation)  (None, 2)                 0         \n",
            "                                                                 \n",
            "=================================================================\n",
            "Total params: 38210 (149.26 KB)\n",
            "Trainable params: 38210 (149.26 KB)\n",
            "Non-trainable params: 0 (0.00 Byte)\n",
            "_________________________________________________________________\n"
          ]
        }
      ]
    },
    {
      "cell_type": "code",
      "execution_count": null,
      "metadata": {
        "id": "C2AVGb9mKooO"
      },
      "outputs": [],
      "source": [
        "# Save this model for later\n",
        "json_string = model1.to_json() # Call the to_json() method on the model1 object\n",
        "open('model1_incremental_architecture.json', 'w').write(json_string)\n",
        "model1.save_weights('model1_incremental.weights.h5')"
      ]
    },
    {
      "cell_type": "code",
      "execution_count": null,
      "metadata": {
        "colab": {
          "base_uri": "https://localhost:8080/",
          "height": 1000
        },
        "id": "ZYAgNvlrG2z6",
        "outputId": "c55b4f0c-6785-47ae-c7c8-cdbe34f17f97"
      },
      "outputs": [
        {
          "output_type": "stream",
          "name": "stdout",
          "text": [
            "1.weights:[array([[[[ 4.49189320e-02,  8.68238732e-02,  6.35428950e-02, ...,\n",
            "           2.21313164e-02,  3.22128311e-02, -3.97522673e-02],\n",
            "         [ 1.00685604e-01,  4.56830785e-02, -7.73530751e-02, ...,\n",
            "          -3.08964178e-02,  9.66419503e-02,  2.18845531e-02],\n",
            "         [-4.84520495e-02, -2.16001943e-02,  7.27337524e-02, ...,\n",
            "          -6.68609440e-02, -5.76342531e-02,  6.25455603e-02],\n",
            "         ...,\n",
            "         [-2.65408754e-02,  1.30553022e-02, -8.69002193e-02, ...,\n",
            "          -6.41026795e-02, -9.50030461e-02,  2.57402286e-02],\n",
            "         [-7.99272209e-02,  8.44673887e-02, -2.77793556e-02, ...,\n",
            "          -2.29256526e-02, -8.92228931e-02, -1.43634677e-02],\n",
            "         [ 1.63772330e-02, -4.10966054e-02,  8.70788023e-02, ...,\n",
            "          -5.99436872e-02, -8.68537426e-02,  8.15365687e-02]],\n",
            "\n",
            "        [[-2.24211887e-02,  1.03235804e-01, -5.92574738e-02, ...,\n",
            "           1.00236334e-01,  5.13677374e-02, -2.97042280e-02],\n",
            "         [ 1.26084387e-02, -7.60462582e-02, -1.46412775e-02, ...,\n",
            "           4.23413888e-02, -7.70672783e-02, -6.38954490e-02],\n",
            "         [-8.36128592e-02, -1.04667775e-01,  7.02712610e-02, ...,\n",
            "          -2.39951760e-02,  4.58465889e-02,  8.97859707e-02],\n",
            "         ...,\n",
            "         [-7.76767954e-02, -7.54550397e-02, -5.77629507e-02, ...,\n",
            "           9.51361731e-02,  7.61844888e-02,  6.71666190e-02],\n",
            "         [ 5.50034866e-02,  7.48039857e-02,  1.47672594e-02, ...,\n",
            "          -8.26294720e-03,  3.44919190e-02, -7.13788122e-02],\n",
            "         [-8.31317157e-02, -4.05892506e-02, -2.05681175e-02, ...,\n",
            "          -5.90579286e-02, -3.35138962e-02,  1.05145507e-01]],\n",
            "\n",
            "        [[ 6.96456358e-02, -1.03002839e-01,  9.22129676e-02, ...,\n",
            "          -7.04939067e-02, -2.14638039e-02, -7.98378587e-02],\n",
            "         [ 8.38508829e-02, -3.84392440e-02,  3.47789600e-02, ...,\n",
            "           9.18664113e-02, -3.09930518e-02,  1.49444118e-02],\n",
            "         [-1.83454379e-02,  8.33759531e-02,  9.76026580e-02, ...,\n",
            "          -4.60687988e-02,  9.01925489e-02,  4.19709012e-02],\n",
            "         ...,\n",
            "         [-3.42254713e-02,  3.84868160e-02, -3.12881172e-02, ...,\n",
            "          -2.16500834e-02,  2.72994414e-02, -3.01608443e-03],\n",
            "         [-1.03432208e-01,  8.55915919e-02,  2.60565206e-02, ...,\n",
            "          -4.05674055e-02,  1.93568021e-02, -6.47349134e-02],\n",
            "         [ 5.42143807e-02, -5.58421500e-02,  8.97605047e-02, ...,\n",
            "          -5.82772419e-02,  6.05876520e-02, -3.51515934e-02]]],\n",
            "\n",
            "\n",
            "       [[[ 7.90773779e-02, -8.60025510e-02,  4.78724428e-02, ...,\n",
            "           1.68369748e-02,  3.01917307e-02,  3.34177651e-02],\n",
            "         [-7.39919320e-02, -5.19688763e-02, -7.73367882e-02, ...,\n",
            "           1.61253158e-02, -6.70980886e-02,  1.58022009e-02],\n",
            "         [-1.01430051e-01,  3.34907742e-03,  2.87425779e-02, ...,\n",
            "           3.18069360e-03, -9.41117555e-02, -9.10834223e-02],\n",
            "         ...,\n",
            "         [-2.90219556e-03, -2.55036983e-03, -2.85013560e-02, ...,\n",
            "           6.53656349e-02,  9.74748225e-04, -1.04439490e-01],\n",
            "         [-5.79598323e-02,  2.97369827e-02, -4.47314717e-02, ...,\n",
            "          -6.36028685e-03,  5.78257777e-02,  6.96589127e-02],\n",
            "         [ 3.93901812e-03, -6.18903562e-02,  5.72934970e-02, ...,\n",
            "           4.98789139e-02, -5.53349853e-02, -8.34258720e-02]],\n",
            "\n",
            "        [[ 6.73891604e-02, -4.59580161e-02, -1.41626745e-02, ...,\n",
            "          -7.41016045e-02, -2.27363445e-02,  7.77690336e-02],\n",
            "         [ 9.61554528e-04,  1.50587037e-02,  1.00658752e-01, ...,\n",
            "           2.21137200e-02, -6.39664605e-02, -9.47695598e-02],\n",
            "         [ 1.40874796e-02,  9.47337896e-02,  4.08086926e-03, ...,\n",
            "           8.94464031e-02, -8.64329413e-02, -9.83072072e-02],\n",
            "         ...,\n",
            "         [-7.44859576e-02,  3.52770612e-02,  4.68616895e-02, ...,\n",
            "          -1.03265636e-01,  1.03110254e-01, -4.97555919e-02],\n",
            "         [ 4.29023318e-02,  2.33757384e-02, -3.87034677e-02, ...,\n",
            "          -1.00875549e-01,  6.56710789e-02,  1.04534023e-01],\n",
            "         [ 4.51667756e-02, -3.71705182e-02,  9.71059427e-02, ...,\n",
            "           8.61838087e-02,  3.90288420e-02,  3.79468203e-02]],\n",
            "\n",
            "        [[ 2.94584837e-02, -6.90747425e-02, -4.68634479e-02, ...,\n",
            "          -4.87915706e-03, -1.06912933e-03, -1.01709314e-01],\n",
            "         [-7.77672604e-02,  5.29200882e-02,  4.36746478e-02, ...,\n",
            "          -3.62173021e-02, -2.49745939e-02,  4.13018130e-02],\n",
            "         [ 2.08160747e-02,  9.64501202e-02, -4.56444472e-02, ...,\n",
            "          -2.06128545e-02,  8.89812037e-02, -3.25147584e-02],\n",
            "         ...,\n",
            "         [-3.07693053e-02, -8.78121555e-02, -5.71521670e-02, ...,\n",
            "           1.36348698e-02, -8.02889541e-02,  2.89427899e-02],\n",
            "         [-6.11278415e-02,  5.20329103e-02,  9.07452628e-02, ...,\n",
            "           8.76656622e-02,  3.96659561e-02, -3.66163626e-02],\n",
            "         [-2.14413693e-03,  4.09063250e-02, -7.34029934e-02, ...,\n",
            "          -3.46856820e-03, -1.01919018e-01,  2.23122146e-02]]],\n",
            "\n",
            "\n",
            "       [[[-1.62791684e-02,  4.68655154e-02, -7.10038692e-02, ...,\n",
            "          -6.02420010e-02, -3.53850648e-02, -2.13005021e-02],\n",
            "         [ 2.44494528e-03, -7.51187801e-02, -7.46152997e-02, ...,\n",
            "           7.99335763e-02,  7.46614411e-02,  4.07312140e-02],\n",
            "         [-3.56873423e-02, -9.23544616e-02, -4.33432609e-02, ...,\n",
            "           7.41925165e-02,  8.81888345e-02, -8.77806991e-02],\n",
            "         ...,\n",
            "         [ 6.98061511e-02, -8.65213573e-02, -1.73619911e-02, ...,\n",
            "           6.91226795e-02,  6.39815405e-02, -2.78254002e-02],\n",
            "         [-1.02644414e-02,  2.83732638e-02, -8.87613297e-02, ...,\n",
            "          -6.85788691e-03,  1.90143883e-02,  1.33614242e-02],\n",
            "         [-1.03012845e-02,  2.54771113e-03,  7.41006508e-02, ...,\n",
            "          -3.60295326e-02,  3.85439470e-02, -2.42756978e-02]],\n",
            "\n",
            "        [[ 1.52079165e-02, -1.05290987e-01,  6.68298975e-02, ...,\n",
            "           2.20513865e-02, -9.95914862e-02, -9.81017873e-02],\n",
            "         [ 8.47445056e-02, -4.49085794e-02, -4.40063328e-02, ...,\n",
            "          -5.44436052e-02, -9.40889642e-02,  9.53978822e-02],\n",
            "         [-4.23823297e-02, -5.97580671e-02,  1.07367188e-02, ...,\n",
            "           6.81844130e-02,  8.87476280e-02, -8.08376595e-02],\n",
            "         ...,\n",
            "         [-1.85691565e-02,  8.07643309e-02,  9.46812108e-02, ...,\n",
            "          -2.89241225e-03,  8.57912004e-03, -2.46913433e-02],\n",
            "         [-2.42683068e-02, -6.34352863e-02,  5.21825925e-02, ...,\n",
            "           3.00999209e-02,  1.41796097e-02,  5.34223542e-02],\n",
            "         [-4.83320691e-02,  7.22861513e-02,  1.11057460e-02, ...,\n",
            "           7.92165026e-02,  9.98571441e-02, -8.80832821e-02]],\n",
            "\n",
            "        [[-5.76221906e-02,  2.00733319e-02, -7.44239986e-03, ...,\n",
            "          -7.22390413e-02,  1.00729771e-01,  7.38831088e-02],\n",
            "         [-5.59927374e-02,  9.31166783e-02,  4.01639417e-02, ...,\n",
            "          -6.05726801e-02,  1.01348184e-01,  7.03654364e-02],\n",
            "         [ 9.11652073e-02,  7.51061216e-02,  5.75427786e-02, ...,\n",
            "           1.99262574e-02,  7.05942512e-05, -3.68589982e-02],\n",
            "         ...,\n",
            "         [ 8.61688927e-02,  8.10272992e-03, -7.78617710e-03, ...,\n",
            "           4.78946492e-02,  4.87157777e-02, -2.50257179e-02],\n",
            "         [-2.26849467e-02,  3.26435640e-02,  8.35692808e-02, ...,\n",
            "           1.54840350e-02, -1.95294842e-02,  4.65760306e-02],\n",
            "         [-4.44019772e-02, -1.48307383e-02, -9.46301967e-02, ...,\n",
            "          -3.55351195e-02,  3.35858241e-02, -4.80214953e-02]]]],\n",
            "      dtype=float32), array([ 2.7417531e-04, -3.8525200e-04,  2.4319130e-04,  3.8568265e-04,\n",
            "        3.4278393e-04, -1.8471541e-04, -2.2500253e-04, -3.2126947e-04,\n",
            "        3.3159085e-04, -3.8855316e-05,  3.8416451e-04, -3.6014119e-04,\n",
            "       -3.8510849e-04,  1.9888459e-04,  1.1085929e-05,  3.5824103e-04,\n",
            "        8.3003826e-05, -2.9696614e-04,  2.6730052e-04, -1.9772438e-04,\n",
            "        3.0170804e-06,  3.4129788e-04,  2.0843479e-04, -3.1820923e-04,\n",
            "        2.0892380e-04, -1.8797845e-04,  2.1771462e-04,  4.3744280e-04,\n",
            "        2.3367367e-04, -3.4437393e-04, -8.5900729e-06,  1.3662403e-04],\n",
            "      dtype=float32)]\n"
          ]
        },
        {
          "output_type": "error",
          "ename": "ValueError",
          "evalue": "You called `set_weights(weights)` on layer \"conv2d_21\" with a weight list of length 0, but the layer was expecting 2 weights. Provided weights: []...",
          "traceback": [
            "\u001b[0;31m---------------------------------------------------------------------------\u001b[0m",
            "\u001b[0;31mValueError\u001b[0m                                Traceback (most recent call last)",
            "\u001b[0;32m<ipython-input-34-88e8508b5008>\u001b[0m in \u001b[0;36m<cell line: 2>\u001b[0;34m()\u001b[0m\n\u001b[1;32m      1\u001b[0m \u001b[0mtotal_classes\u001b[0m \u001b[0;34m=\u001b[0m \u001b[0;36m10\u001b[0m\u001b[0;34m\u001b[0m\u001b[0;34m\u001b[0m\u001b[0m\n\u001b[0;32m----> 2\u001b[0;31m \u001b[0mmodel2\u001b[0m \u001b[0;34m=\u001b[0m \u001b[0mbuild_model\u001b[0m\u001b[0;34m(\u001b[0m\u001b[0mold_model\u001b[0m\u001b[0;34m=\u001b[0m\u001b[0mmodel1\u001b[0m\u001b[0;34m)\u001b[0m\u001b[0;34m\u001b[0m\u001b[0;34m\u001b[0m\u001b[0m\n\u001b[0m\u001b[1;32m      3\u001b[0m \u001b[0mmodel2\u001b[0m\u001b[0;34m.\u001b[0m\u001b[0madd\u001b[0m\u001b[0;34m(\u001b[0m\u001b[0mDense\u001b[0m\u001b[0;34m(\u001b[0m\u001b[0mtotal_classes\u001b[0m\u001b[0;34m)\u001b[0m\u001b[0;34m)\u001b[0m\u001b[0;34m\u001b[0m\u001b[0;34m\u001b[0m\u001b[0m\n\u001b[1;32m      4\u001b[0m \u001b[0;34m\u001b[0m\u001b[0m\n\u001b[1;32m      5\u001b[0m \u001b[0;31m# Get weights from the penultimate layer of model1 (after training)\u001b[0m\u001b[0;34m\u001b[0m\u001b[0;34m\u001b[0m\u001b[0m\n",
            "\u001b[0;32m<ipython-input-31-d19e317adb1f>\u001b[0m in \u001b[0;36mbuild_model\u001b[0;34m(old_model)\u001b[0m\n\u001b[1;32m     23\u001b[0m     \u001b[0;31m# Access the correct Conv2D layer from the old model (index 1 instead of 2)\u001b[0m\u001b[0;34m\u001b[0m\u001b[0;34m\u001b[0m\u001b[0m\n\u001b[1;32m     24\u001b[0m     \u001b[0mweights\u001b[0m \u001b[0;34m=\u001b[0m \u001b[0mold_model\u001b[0m\u001b[0;34m.\u001b[0m\u001b[0mlayers\u001b[0m\u001b[0;34m[\u001b[0m\u001b[0;36m2\u001b[0m\u001b[0;34m]\u001b[0m\u001b[0;34m.\u001b[0m\u001b[0mget_weights\u001b[0m\u001b[0;34m(\u001b[0m\u001b[0;34m)\u001b[0m\u001b[0;34m\u001b[0m\u001b[0;34m\u001b[0m\u001b[0m\n\u001b[0;32m---> 25\u001b[0;31m     \u001b[0mmodel\u001b[0m\u001b[0;34m.\u001b[0m\u001b[0madd\u001b[0m\u001b[0;34m(\u001b[0m\u001b[0mConv2D\u001b[0m\u001b[0;34m(\u001b[0m\u001b[0mnb_filters\u001b[0m\u001b[0;34m,\u001b[0m \u001b[0mnb_conv\u001b[0m\u001b[0;34m,\u001b[0m \u001b[0mnb_conv\u001b[0m\u001b[0;34m,\u001b[0m \u001b[0mpadding\u001b[0m \u001b[0;34m=\u001b[0m \u001b[0;34m'same'\u001b[0m\u001b[0;34m,\u001b[0m \u001b[0mweights\u001b[0m \u001b[0;34m=\u001b[0m \u001b[0mweights\u001b[0m\u001b[0;34m)\u001b[0m\u001b[0;34m)\u001b[0m\u001b[0;34m\u001b[0m\u001b[0;34m\u001b[0m\u001b[0m\n\u001b[0m\u001b[1;32m     26\u001b[0m   \u001b[0;31m# print(\"2.weights:{}\".format(weights))\u001b[0m\u001b[0;34m\u001b[0m\u001b[0;34m\u001b[0m\u001b[0m\n\u001b[1;32m     27\u001b[0m   \u001b[0mmodel\u001b[0m\u001b[0;34m.\u001b[0m\u001b[0madd\u001b[0m\u001b[0;34m(\u001b[0m\u001b[0mActivation\u001b[0m\u001b[0;34m(\u001b[0m\u001b[0;34m'relu'\u001b[0m\u001b[0;34m)\u001b[0m\u001b[0;34m)\u001b[0m\u001b[0;34m\u001b[0m\u001b[0;34m\u001b[0m\u001b[0m\n",
            "\u001b[0;32m/usr/local/lib/python3.10/dist-packages/tensorflow/python/trackable/base.py\u001b[0m in \u001b[0;36m_method_wrapper\u001b[0;34m(self, *args, **kwargs)\u001b[0m\n\u001b[1;32m    202\u001b[0m     \u001b[0mself\u001b[0m\u001b[0;34m.\u001b[0m\u001b[0m_self_setattr_tracking\u001b[0m \u001b[0;34m=\u001b[0m \u001b[0;32mFalse\u001b[0m  \u001b[0;31m# pylint: disable=protected-access\u001b[0m\u001b[0;34m\u001b[0m\u001b[0;34m\u001b[0m\u001b[0m\n\u001b[1;32m    203\u001b[0m     \u001b[0;32mtry\u001b[0m\u001b[0;34m:\u001b[0m\u001b[0;34m\u001b[0m\u001b[0;34m\u001b[0m\u001b[0m\n\u001b[0;32m--> 204\u001b[0;31m       \u001b[0mresult\u001b[0m \u001b[0;34m=\u001b[0m \u001b[0mmethod\u001b[0m\u001b[0;34m(\u001b[0m\u001b[0mself\u001b[0m\u001b[0;34m,\u001b[0m \u001b[0;34m*\u001b[0m\u001b[0margs\u001b[0m\u001b[0;34m,\u001b[0m \u001b[0;34m**\u001b[0m\u001b[0mkwargs\u001b[0m\u001b[0;34m)\u001b[0m\u001b[0;34m\u001b[0m\u001b[0;34m\u001b[0m\u001b[0m\n\u001b[0m\u001b[1;32m    205\u001b[0m     \u001b[0;32mfinally\u001b[0m\u001b[0;34m:\u001b[0m\u001b[0;34m\u001b[0m\u001b[0;34m\u001b[0m\u001b[0m\n\u001b[1;32m    206\u001b[0m       \u001b[0mself\u001b[0m\u001b[0;34m.\u001b[0m\u001b[0m_self_setattr_tracking\u001b[0m \u001b[0;34m=\u001b[0m \u001b[0mprevious_value\u001b[0m  \u001b[0;31m# pylint: disable=protected-access\u001b[0m\u001b[0;34m\u001b[0m\u001b[0;34m\u001b[0m\u001b[0m\n",
            "\u001b[0;32m/usr/local/lib/python3.10/dist-packages/keras/src/utils/traceback_utils.py\u001b[0m in \u001b[0;36merror_handler\u001b[0;34m(*args, **kwargs)\u001b[0m\n\u001b[1;32m     68\u001b[0m             \u001b[0;31m# To get the full stack trace, call:\u001b[0m\u001b[0;34m\u001b[0m\u001b[0;34m\u001b[0m\u001b[0m\n\u001b[1;32m     69\u001b[0m             \u001b[0;31m# `tf.debugging.disable_traceback_filtering()`\u001b[0m\u001b[0;34m\u001b[0m\u001b[0;34m\u001b[0m\u001b[0m\n\u001b[0;32m---> 70\u001b[0;31m             \u001b[0;32mraise\u001b[0m \u001b[0me\u001b[0m\u001b[0;34m.\u001b[0m\u001b[0mwith_traceback\u001b[0m\u001b[0;34m(\u001b[0m\u001b[0mfiltered_tb\u001b[0m\u001b[0;34m)\u001b[0m \u001b[0;32mfrom\u001b[0m \u001b[0;32mNone\u001b[0m\u001b[0;34m\u001b[0m\u001b[0;34m\u001b[0m\u001b[0m\n\u001b[0m\u001b[1;32m     71\u001b[0m         \u001b[0;32mfinally\u001b[0m\u001b[0;34m:\u001b[0m\u001b[0;34m\u001b[0m\u001b[0;34m\u001b[0m\u001b[0m\n\u001b[1;32m     72\u001b[0m             \u001b[0;32mdel\u001b[0m \u001b[0mfiltered_tb\u001b[0m\u001b[0;34m\u001b[0m\u001b[0;34m\u001b[0m\u001b[0m\n",
            "\u001b[0;32m/usr/local/lib/python3.10/dist-packages/keras/src/engine/base_layer.py\u001b[0m in \u001b[0;36mset_weights\u001b[0;34m(self, weights)\u001b[0m\n\u001b[1;32m   1795\u001b[0m \u001b[0;34m\u001b[0m\u001b[0m\n\u001b[1;32m   1796\u001b[0m         \u001b[0;32mif\u001b[0m \u001b[0mexpected_num_weights\u001b[0m \u001b[0;34m!=\u001b[0m \u001b[0mlen\u001b[0m\u001b[0;34m(\u001b[0m\u001b[0mweights\u001b[0m\u001b[0;34m)\u001b[0m\u001b[0;34m:\u001b[0m\u001b[0;34m\u001b[0m\u001b[0;34m\u001b[0m\u001b[0m\n\u001b[0;32m-> 1797\u001b[0;31m             raise ValueError(\n\u001b[0m\u001b[1;32m   1798\u001b[0m                 \u001b[0;34m'You called `set_weights(weights)` on layer \"%s\" '\u001b[0m\u001b[0;34m\u001b[0m\u001b[0;34m\u001b[0m\u001b[0m\n\u001b[1;32m   1799\u001b[0m                 \u001b[0;34m\"with a weight list of length %s, but the layer was \"\u001b[0m\u001b[0;34m\u001b[0m\u001b[0;34m\u001b[0m\u001b[0m\n",
            "\u001b[0;31mValueError\u001b[0m: You called `set_weights(weights)` on layer \"conv2d_21\" with a weight list of length 0, but the layer was expecting 2 weights. Provided weights: []..."
          ]
        }
      ],
      "source": [
        "total_classes = 10\n",
        "model2 = build_model(old_model=model1)\n",
        "model2.add(Dense(total_classes))\n",
        "\n",
        "# Get weights from the penultimate layer of model1 (after training)\n",
        "old_weights = model1.layers[-2].get_weights()\n",
        "\n",
        "# Get weights from the newly added Dense layer in model2\n",
        "new_weights = model2.layers[-1].get_weights()\n",
        "\n",
        "# Transfer the weights for the shared classes\n",
        "new_weights[0][:, -len(classes):] = old_weights[0]\n",
        "new_weights[1][-len(classes):] = old_weights[1]\n",
        "\n",
        "# Set the updated weights back to the Dense layer in model2\n",
        "model2.layers[-1].set_weights(new_weights)"
      ]
    },
    {
      "cell_type": "code",
      "execution_count": null,
      "metadata": {
        "id": "ZzokGDedICVb"
      },
      "outputs": [],
      "source": []
    }
  ],
  "metadata": {
    "accelerator": "GPU",
    "colab": {
      "gpuType": "T4",
      "provenance": []
    },
    "kernelspec": {
      "display_name": "Python 3",
      "name": "python3"
    },
    "language_info": {
      "name": "python"
    }
  },
  "nbformat": 4,
  "nbformat_minor": 0
}